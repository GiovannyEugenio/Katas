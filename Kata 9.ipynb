{
 "cells": [
  {
   "cell_type": "markdown",
   "metadata": {},
   "source": [
    "# Ejercicio 1"
   ]
  },
  {
   "cell_type": "code",
   "execution_count": 7,
   "metadata": {},
   "outputs": [
    {
     "name": "stdout",
     "output_type": "stream",
     "text": [
      "Reporte de tanques de combustibles:\n",
      "    Promedio total: 41.333333333333336% \n",
      "    Tanque no.1: 23%\n",
      "    Tanque no.2: 34% \n",
      "    Tanque no.3: 67%\n"
     ]
    }
   ],
   "source": [
    "# Funcion para leer 3 tanques de combustible y muestre el promedio \n",
    "def Informe_Tanque(tanque1,tanque2,tanque3):\n",
    "    promedio= (tanque1 + tanque2 + tanque3)/3\n",
    "    return f\"\"\"Reporte de tanques de combustible:\n",
    "    Promedio total: {promedio}% \n",
    "    Tanque no.1: {tanque1}%\n",
    "    Tanque no.2: {tanque2}% \n",
    "    Tanque no.3: {tanque3}%\"\"\"\n",
    "print(Informe_Tanque(23,34,67))\n"
   ]
  },
  {
   "cell_type": "code",
   "execution_count": 11,
   "metadata": {},
   "outputs": [
    {
     "ename": "TypeError",
     "evalue": "unsupported operand type(s) for +: 'int' and 'str'",
     "output_type": "error",
     "traceback": [
      "\u001b[1;31m---------------------------------------------------------------------------\u001b[0m",
      "\u001b[1;31mTypeError\u001b[0m                                 Traceback (most recent call last)",
      "\u001b[1;32mUntitled-2.ipynb Cell 3'\u001b[0m in \u001b[0;36m<module>\u001b[1;34m\u001b[0m\n\u001b[0;32m      <a href='vscode-notebook-cell:Untitled-2.ipynb?jupyter-notebook#ch0000002untitled?line=4'>5</a>\u001b[0m     \u001b[39mreturn\u001b[39;00m total\u001b[39m/\u001b[39mnumero_de_tanques\n\u001b[0;32m      <a href='vscode-notebook-cell:Untitled-2.ipynb?jupyter-notebook#ch0000002untitled?line=5'>6</a>\u001b[0m \u001b[39m#ahora probamos la funcion\u001b[39;00m\n\u001b[1;32m----> <a href='vscode-notebook-cell:Untitled-2.ipynb?jupyter-notebook#ch0000002untitled?line=6'>7</a>\u001b[0m promedio([\u001b[39m'\u001b[39;49m\u001b[39mola\u001b[39;49m\u001b[39m'\u001b[39;49m,\u001b[39m90\u001b[39;49m,\u001b[39m40\u001b[39;49m])\n",
      "\u001b[1;32mUntitled-2.ipynb Cell 3'\u001b[0m in \u001b[0;36mpromedio\u001b[1;34m(valores)\u001b[0m\n\u001b[0;32m      <a href='vscode-notebook-cell:Untitled-2.ipynb?jupyter-notebook#ch0000002untitled?line=1'>2</a>\u001b[0m \u001b[39mdef\u001b[39;00m \u001b[39mpromedio\u001b[39m(valores):\n\u001b[1;32m----> <a href='vscode-notebook-cell:Untitled-2.ipynb?jupyter-notebook#ch0000002untitled?line=2'>3</a>\u001b[0m     total\u001b[39m=\u001b[39m \u001b[39msum\u001b[39;49m(valores)\n\u001b[0;32m      <a href='vscode-notebook-cell:Untitled-2.ipynb?jupyter-notebook#ch0000002untitled?line=3'>4</a>\u001b[0m     numero_de_ptomrfio\u001b[39m=\u001b[39m\u001b[39mlen\u001b[39m(valores)\n\u001b[0;32m      <a href='vscode-notebook-cell:Untitled-2.ipynb?jupyter-notebook#ch0000002untitled?line=4'>5</a>\u001b[0m     \u001b[39mreturn\u001b[39;00m total\u001b[39m/\u001b[39mnumero_de_tanques\n",
      "\u001b[1;31mTypeError\u001b[0m: unsupported operand type(s) for +: 'int' and 'str'"
     ]
    }
   ],
   "source": [
    "# Funcion promedio\n",
    "def promedio(valores):\n",
    "    total= sum(valores)\n",
    "    numero_de_ptomrfio=len(valores)\n",
    "    return total/numero_de_tanques\n",
    "#ahora probamos la funcion\n",
    "promedio([80,90,40])"
   ]
  },
  {
   "cell_type": "code",
   "execution_count": 9,
   "metadata": {},
   "outputs": [
    {
     "name": "stdout",
     "output_type": "stream",
     "text": [
      "Reporte de tanques de combustible:\n",
      "    Promedio total: 41.333333333333336% \n",
      "    Tanque no.1: 23%\n",
      "    Tanque no.2: 34% \n",
      "    Tanque no.3: 67%\n"
     ]
    }
   ],
   "source": [
    "#Actualizamos la funcion\n",
    "def Informe_Tanque(tanque1,tanque2,tanque3):\n",
    "    return f\"\"\"Reporte de tanques de combustible:\n",
    "    Promedio total: {promedio([tanque1,tanque2,tanque3])}% \n",
    "    Tanque no.1: {tanque1}%\n",
    "    Tanque no.2: {tanque2}% \n",
    "    Tanque no.3: {tanque3}%\"\"\"\n",
    "print(Informe_Tanque(23,34,67))"
   ]
  },
  {
   "cell_type": "markdown",
   "metadata": {},
   "source": [
    "# Ejercicio 2"
   ]
  },
  {
   "cell_type": "code",
   "execution_count": 1,
   "metadata": {},
   "outputs": [
    {
     "name": "stdout",
     "output_type": "stream",
     "text": [
      "Mision hacia: Luna\n",
      "    Tiempo de vuelo: 48\n",
      "    Combustible restante: 24000\n"
     ]
    }
   ],
   "source": [
    "# Función con un informe preciso de la misión. Considera hora de prelanzamiento, tiempo de vuelo, destino, tanque externo y tanque interno\n",
    "def reporte_de_mision(prelanzamiento,tiempo_de_vuelo,destino,tanque_externo,tanque_interno):\n",
    "    return f\"\"\"Mision hacia: {destino}\n",
    "    Tiempo de vuelo: {prelanzamiento  + tiempo_de_vuelo}\n",
    "    Combustible restante: {tanque_externo + tanque_interno}\"\"\"\n",
    "print(reporte_de_mision(23,25,'Luna',4000,20000))\n"
   ]
  },
  {
   "cell_type": "code",
   "execution_count": 14,
   "metadata": {},
   "outputs": [
    {
     "name": "stdout",
     "output_type": "stream",
     "text": [
      "Mision hacia: Luna\n",
      "    Tiempo total de viaje: 190 minutos\n",
      "    Combustible restante: 25000 Litros\n"
     ]
    }
   ],
   "source": [
    "#escibe tu nueva funcion de reporte considerando la anterior\n",
    "def reporte_de_mision(destino,*minutos,**reseva_de_combustible):\n",
    "    return f\"\"\"Mision hacia: {destino}\n",
    "    Tiempo total de viaje: {sum(minutos)} minutos\n",
    "    Combustible restante: {sum(reseva_de_combustible.values())} Litros\"\"\"\n",
    "print(reporte_de_mision('Luna',15,150, 25, interno=20000,externo=5000))"
   ]
  },
  {
   "cell_type": "code",
   "execution_count": 24,
   "metadata": {},
   "outputs": [
    {
     "name": "stdout",
     "output_type": "stream",
     "text": [
      "\n",
      "    Mision hacia: Luna\n",
      "    Tiempo total de viaje: 190 minutos\n",
      "    Combustible restante: 25000\n",
      "     Tanque interno 20000 gallones restantes\n",
      " Tanque externo 5000 gallones restantes\n",
      "\n"
     ]
    }
   ],
   "source": [
    "# Escribe tu nueva función\n",
    "\n",
    "def reporte_de_mision(destino, *minutos, **reserva_de_combustible):\n",
    "    reporte_principal = f\"\"\"\n",
    "    Mision hacia: {destino}\n",
    "    Tiempo total de viaje: {sum(minutos)} minutos\n",
    "    Combustible restante: {sum(reserva_de_combustible.values())}\n",
    "    \"\"\"\n",
    "    for nombre_de_tanque, galones in reserva_de_combustible.items():\n",
    "        reporte_principal += f\" Tanque {nombre_de_tanque} {galones} gallones restantes\\n\"\n",
    "    return reporte_principal\n",
    "\n",
    "print(reporte_de_mision('Luna',15,150, 25, interno=20000,externo=5000))"
   ]
  }
 ],
 "metadata": {
  "interpreter": {
   "hash": "f8b0a664fa28dbd66cd013cdde9dc2cd9d853b5d5f96a599ef21e9e08c13014b"
  },
  "kernelspec": {
   "display_name": "Python 3.10.2 64-bit",
   "language": "python",
   "name": "python3"
  },
  "language_info": {
   "codemirror_mode": {
    "name": "ipython",
    "version": 3
   },
   "file_extension": ".py",
   "mimetype": "text/x-python",
   "name": "python",
   "nbconvert_exporter": "python",
   "pygments_lexer": "ipython3",
   "version": "3.10.2"
  },
  "orig_nbformat": 4
 },
 "nbformat": 4,
 "nbformat_minor": 2
}
