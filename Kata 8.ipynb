{
 "cells": [
  {
   "cell_type": "markdown",
   "metadata": {},
   "source": [
    "# Ejercicio 1"
   ]
  },
  {
   "cell_type": "code",
   "execution_count": 6,
   "metadata": {},
   "outputs": [
    {
     "name": "stdout",
     "output_type": "stream",
     "text": [
      "El planeta se llama:Marte y tiene: 2 lunas\n",
      "El planeta se llama:Marte y su circunferencia polar es: 6752\n"
     ]
    }
   ],
   "source": [
    "planeta= {\n",
    "    'nombre': 'Marte',\n",
    "    'lunas': 2\n",
    "}\n",
    "#mostrar el nombre del planeta y el numero de lunas que tiene\n",
    "print(f'El planeta se llama:{planeta[\"nombre\"]} y tiene: {planeta[\"lunas\"]} lunas')\n",
    "# Agregar la clave circunferencia\n",
    "planeta['circunferencia (km)']= {\n",
    "    'polar': 6752,\n",
    "    'ecuatorial': 6792\n",
    "}\n",
    "# imprime el planeta con su circunferencia polar\n",
    "print(f'El planeta se llama:{planeta[\"nombre\"]} y su circunferencia polar es: {planeta[\"circunferencia (km)\"][\"polar\"]}')\n"
   ]
  },
  {
   "cell_type": "markdown",
   "metadata": {},
   "source": [
    "# Ejercicio 2"
   ]
  },
  {
   "cell_type": "code",
   "execution_count": 2,
   "metadata": {},
   "outputs": [
    {
     "name": "stdout",
     "output_type": "stream",
     "text": [
      "0.08333333333333333\n"
     ]
    }
   ],
   "source": [
    "# Planetas y lunas\n",
    "\n",
    "planeta_lunas = {\n",
    "    'mercurio': 0,\n",
    "    'venus': 0,\n",
    "    'tierra': 1,\n",
    "    'marte': 2,\n",
    "    'jupiter': 79,\n",
    "    'saturno': 82,\n",
    "    'urano': 27,\n",
    "    'neptuno': 14,\n",
    "    'pluton': 5,\n",
    "    'haumea': 2,\n",
    "    'makemake': 1,\n",
    "    'eris': 1\n",
    "}\n",
    "#creamos una variable donde se almacene la lista de planeta lunas\n",
    "lunas=planeta_lunas.values()\n",
    "#contamos el numero de elementos de la lista con len\n",
    "planetas=len(planeta_lunas.keys())\n",
    "# iniciamos el ciclo for en donde el total de las lunas sera el valor de lunas\n",
    "total_lunas= 0\n",
    "for lunas in lunas:\n",
    "    total_lunas = total_lunas = lunas\n",
    "#sacamos el promedio \n",
    "promedio = total_lunas / planetas\n",
    "print (promedio)\n"
   ]
  }
 ],
 "metadata": {
  "interpreter": {
   "hash": "f8b0a664fa28dbd66cd013cdde9dc2cd9d853b5d5f96a599ef21e9e08c13014b"
  },
  "kernelspec": {
   "display_name": "Python 3.10.2 64-bit",
   "language": "python",
   "name": "python3"
  },
  "language_info": {
   "codemirror_mode": {
    "name": "ipython",
    "version": 3
   },
   "file_extension": ".py",
   "mimetype": "text/x-python",
   "name": "python",
   "nbconvert_exporter": "python",
   "pygments_lexer": "ipython3",
   "version": "3.10.2"
  },
  "orig_nbformat": 4
 },
 "nbformat": 4,
 "nbformat_minor": 2
}
