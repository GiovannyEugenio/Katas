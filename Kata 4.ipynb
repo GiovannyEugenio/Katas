{
 "cells": [
  {
   "cell_type": "markdown",
   "metadata": {},
   "source": [
    "# Ejercicio 1"
   ]
  },
  {
   "cell_type": "code",
   "execution_count": 1,
   "metadata": {},
   "outputs": [
    {
     "name": "stdout",
     "output_type": "stream",
     "text": [
      " \n",
      "On average, the Moon moves 4cm away from the Earth every year\n",
      " The highest daylight temperature of the Moon is 127 Celcius\n"
     ]
    }
   ],
   "source": [
    "text = \"\"\"Interesting facts about the Moon. The Moon is Earth's only satellite. There are several interesting facts about the Moon and how it affects life here on Earth. \n",
    "On average, the Moon moves 4cm away from the Earth every year. This yearly drift is not significant enough to cause immediate effects on Earth. The highest daylight temperature of the Moon is 127 C.\"\"\"\n",
    "# dividimos el texto\n",
    "textdivision=text.split('.')\n",
    "palabras_clave= [\"average\",\"temperature\",\"distance\"]\n",
    "#ciclo for para recorrer la cadena\n",
    "for enunciado in textdivision:\n",
    "    for palabra_clave in palabras_clave:\n",
    "        if palabra_clave in enunciado:\n",
    "            #agreamos el ciclo para cambiar la c a celcius con .replace\n",
    "            print(enunciado.replace('C','Celcius'))\n",
    "            break"
   ]
  },
  {
   "cell_type": "markdown",
   "metadata": {},
   "source": [
    "# Ejercicio 2"
   ]
  },
  {
   "cell_type": "code",
   "execution_count": 3,
   "metadata": {},
   "outputs": [
    {
     "name": "stdout",
     "output_type": "stream",
     "text": [
      "Gravity Facts About Earth And His Natural Satelite The Moon \n",
      "-------------------------------------------------------------------------------- \n",
      " Nombre del planeta: Earth Gravedad en Moon: 1.6199999999999999 m/s2\n"
     ]
    }
   ],
   "source": [
    "# Datos con los que vas a trabajar\n",
    "name = \"Moon\"\n",
    "gravity = 0.00162 # in kms\n",
    "planet = \"Earth\"\n",
    "#creamos el titulo\n",
    "titulo= f\"gravity facts about {planet} and his natural satelite the {name} \\n\"\n",
    "hechos= f\"{'-'*80} \\n Nombre del planeta: {planet} Gravedad en {name}: {gravity*1000} m/s2\"\n",
    "plantilla= f\"{titulo.title()}{hechos}\"\n",
    "print (plantilla)\n",
    "\n"
   ]
  }
 ],
 "metadata": {
  "interpreter": {
   "hash": "f8b0a664fa28dbd66cd013cdde9dc2cd9d853b5d5f96a599ef21e9e08c13014b"
  },
  "kernelspec": {
   "display_name": "Python 3.10.2 64-bit",
   "language": "python",
   "name": "python3"
  },
  "language_info": {
   "codemirror_mode": {
    "name": "ipython",
    "version": 3
   },
   "file_extension": ".py",
   "mimetype": "text/x-python",
   "name": "python",
   "nbconvert_exporter": "python",
   "pygments_lexer": "ipython3",
   "version": "3.10.2"
  },
  "orig_nbformat": 4
 },
 "nbformat": 4,
 "nbformat_minor": 2
}
