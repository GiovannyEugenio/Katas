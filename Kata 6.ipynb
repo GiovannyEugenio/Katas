{
 "cells": [
  {
   "cell_type": "markdown",
   "metadata": {},
   "source": [
    "# Ejercicio 1"
   ]
  },
  {
   "cell_type": "code",
   "execution_count": 2,
   "metadata": {},
   "outputs": [
    {
     "name": "stdout",
     "output_type": "stream",
     "text": [
      "Los planetas que conforman el sistema solar son ['Mercurio', 'Venus', 'Tierra', 'Marte', 'Jupiter', 'Saturno', 'Urano', 'Neptuno']\n",
      "Los planetas que conforman el sistema solar son ['Mercurio', 'Venus', 'Tierra', 'Marte', 'Jupiter', 'Saturno', 'Urano', 'Neptuno', 'Pluton']\n"
     ]
    }
   ],
   "source": [
    "#creamos la lista planetas y la mostramos\n",
    "planetas=['Mercurio','Venus','Tierra','Marte','Jupiter','Saturno','Urano','Neptuno']\n",
    "print('Los planetas que conforman el sistema solar son',planetas)\n",
    "#Agregamos pluton y mostramos\n",
    "planetas.append('Pluton')\n",
    "print('Los planetas que conforman el sistema solar son',planetas)\n"
   ]
  },
  {
   "cell_type": "markdown",
   "metadata": {},
   "source": [
    "# Ejercicio 2 "
   ]
  },
  {
   "cell_type": "code",
   "execution_count": 5,
   "metadata": {},
   "outputs": [
    {
     "name": "stdout",
     "output_type": "stream",
     "text": [
      "Tu planeta es el numero: 3 en el sistema solar\n",
      "Los planetas mas cercanos al sol antes de Tierra son ['Mercurio', 'Venus']\n",
      "Los planetas mas lejanos desde Tierra son ['Marte', 'Jupiter', 'Saturno', 'Urano', 'Neptuno']\n"
     ]
    }
   ],
   "source": [
    "#lista de planetas\n",
    "planetas=['Mercurio','Venus','Tierra','Marte','Jupiter','Saturno','Urano','Neptuno']\n",
    "nuevo_planeta=input('Ingresa el nombre de un planeta (Que empiece con mayuscula)')\n",
    "#localizar el planeta en la lista\n",
    "localizar_planeta=planetas.index(nuevo_planeta)\n",
    "print('Tu planeta es el numero:',localizar_planeta+1,'en el sistema solar')\n",
    "# Muestra los planetas mas cercanos al sol\n",
    "print('Los planetas mas cercanos al sol antes de',nuevo_planeta,'son', planetas[0:localizar_planeta])\n",
    "# Muestra los planetas mas lejanos al sol desde el planeta del usuario\n",
    "print('Los planetas mas lejanos desde',nuevo_planeta,'son',planetas[localizar_planeta+1:])\n",
    "\n",
    "\n"
   ]
  }
 ],
 "metadata": {
  "interpreter": {
   "hash": "f8b0a664fa28dbd66cd013cdde9dc2cd9d853b5d5f96a599ef21e9e08c13014b"
  },
  "kernelspec": {
   "display_name": "Python 3.10.2 64-bit",
   "language": "python",
   "name": "python3"
  },
  "language_info": {
   "codemirror_mode": {
    "name": "ipython",
    "version": 3
   },
   "file_extension": ".py",
   "mimetype": "text/x-python",
   "name": "python",
   "nbconvert_exporter": "python",
   "pygments_lexer": "ipython3",
   "version": "3.10.2"
  },
  "orig_nbformat": 4
 },
 "nbformat": 4,
 "nbformat_minor": 2
}
