{
 "cells": [
  {
   "cell_type": "markdown",
   "metadata": {},
   "source": [
    "## Ejercicio 1 Utilizar operadores aritmeticos"
   ]
  },
  {
   "cell_type": "code",
   "execution_count": 1,
   "metadata": {},
   "outputs": [],
   "source": [
    "# Crear variables para almacenar las dos distancias\n",
    "tierra= 149597870\n",
    "jupiter= 778547200"
   ]
  },
  {
   "cell_type": "code",
   "execution_count": 2,
   "metadata": {},
   "outputs": [
    {
     "name": "stdout",
     "output_type": "stream",
     "text": [
      "-628949330\n",
      "-390577533.93\n"
     ]
    }
   ],
   "source": [
    "# Calcular la distancia entre planetas\n",
    "DiferenciaPlanetas = tierra - jupiter\n",
    "print(DiferenciaPlanetas)\n",
    "# Convertir los kilometros a millas\n",
    "DiferenciaMillas= DiferenciaPlanetas * 0.621\n",
    "print (DiferenciaMillas)"
   ]
  },
  {
   "cell_type": "markdown",
   "metadata": {},
   "source": [
    "## Ejercicio 2 Convierte cadenas en numeros y usa valores absolutos"
   ]
  },
  {
   "cell_type": "code",
   "execution_count": 9,
   "metadata": {},
   "outputs": [
    {
     "name": "stdout",
     "output_type": "stream",
     "text": [
      "2554\n"
     ]
    }
   ],
   "source": [
    "# Almacenar las entradas del usuario\n",
    "LaTierra=input(\"Escriba la distancia del sol a la Tierra en kilometros\")\n",
    "Jupiter2=input(\"Escriba la distancia del sol a Jupiter\")\n",
    "# Convertir las entradas en enteros\n",
    "IntLatierra=int (LaTierra)\n",
    "IntJupiter=int(Jupiter2)\n",
    "# Calcular la distancia\n",
    "Distancia= IntLatierra - IntJupiter\n",
    "#Convertir a millas los kilometros y convertir el resultado en un valor absoluto\n",
    "DistanciaMillas= Distancia* 0.621\n",
    "print (abs(DistanciaMillas))"
   ]
  }
 ],
 "metadata": {
  "interpreter": {
   "hash": "f8b0a664fa28dbd66cd013cdde9dc2cd9d853b5d5f96a599ef21e9e08c13014b"
  },
  "kernelspec": {
   "display_name": "Python 3.10.2 64-bit",
   "language": "python",
   "name": "python3"
  },
  "language_info": {
   "codemirror_mode": {
    "name": "ipython",
    "version": 3
   },
   "file_extension": ".py",
   "mimetype": "text/x-python",
   "name": "python",
   "nbconvert_exporter": "python",
   "pygments_lexer": "ipython3",
   "version": "3.10.2"
  },
  "orig_nbformat": 4
 },
 "nbformat": 4,
 "nbformat_minor": 2
}
